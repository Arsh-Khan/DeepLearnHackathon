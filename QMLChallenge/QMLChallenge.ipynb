{
 "cells": [
  {
   "cell_type": "markdown",
   "id": "7f603431-19a1-40eb-861a-e19313f88439",
   "metadata": {},
   "source": [
    "# Classical Autoencoder\n",
    "\n",
    "In this notebook we train a very simple classical Convolutional Autoencoder on a reduced version of the Quark Gluon dataset."
   ]
  },
  {
   "cell_type": "markdown",
   "id": "7a86d4e5-0786-4448-9df8-fd2010cfa9e1",
   "metadata": {
    "tags": []
   },
   "source": [
    "## imports"
   ]
  },
  {
   "cell_type": "code",
   "execution_count": 1,
   "id": "78501a2e-af16-4326-8b0c-3f1ef400ed64",
   "metadata": {},
   "outputs": [
    {
     "name": "stderr",
     "output_type": "stream",
     "text": [
      "2024-06-20 17:28:07.267785: I tensorflow/core/platform/cpu_feature_guard.cc:193] This TensorFlow binary is optimized with oneAPI Deep Neural Network Library (oneDNN) to use the following CPU instructions in performance-critical operations:  AVX2 FMA\n",
      "To enable them in other operations, rebuild TensorFlow with the appropriate compiler flags.\n",
      "2024-06-20 17:28:07.407106: W tensorflow/compiler/xla/stream_executor/platform/default/dso_loader.cc:64] Could not load dynamic library 'libcudart.so.11.0'; dlerror: libcudart.so.11.0: cannot open shared object file: No such file or directory\n",
      "2024-06-20 17:28:07.407129: I tensorflow/compiler/xla/stream_executor/cuda/cudart_stub.cc:29] Ignore above cudart dlerror if you do not have a GPU set up on your machine.\n",
      "2024-06-20 17:28:08.297247: W tensorflow/compiler/xla/stream_executor/platform/default/dso_loader.cc:64] Could not load dynamic library 'libnvinfer.so.7'; dlerror: libnvinfer.so.7: cannot open shared object file: No such file or directory\n",
      "2024-06-20 17:28:08.297353: W tensorflow/compiler/xla/stream_executor/platform/default/dso_loader.cc:64] Could not load dynamic library 'libnvinfer_plugin.so.7'; dlerror: libnvinfer_plugin.so.7: cannot open shared object file: No such file or directory\n",
      "2024-06-20 17:28:08.297366: W tensorflow/compiler/tf2tensorrt/utils/py_utils.cc:38] TF-TRT Warning: Cannot dlopen some TensorRT libraries. If you would like to use Nvidia GPU with TensorRT, please make sure the missing libraries mentioned above are installed properly.\n"
     ]
    }
   ],
   "source": [
    "import numpy as np\n",
    "import matplotlib.pyplot as plt\n",
    "import tensorflow as tf\n",
    "from hep_VQAE import CAE as cae\n",
    "import h5py\n",
    "from sklearn.model_selection import train_test_split\n",
    "from hep_VQAE import utils as ut\n",
    "from matplotlib.colors import LogNorm\n",
    "from matplotlib import cm\n",
    "\n",
    "\n",
    "import tensorflow_addons as tfa"
   ]
  },
  {
   "cell_type": "markdown",
   "id": "a5554437-51b3-4a2a-aa6e-6d30a52a84ee",
   "metadata": {
    "tags": []
   },
   "source": [
    "## Data"
   ]
  },
  {
   "cell_type": "markdown",
   "id": "58546cc6-9c5d-4e92-9409-1b90ec4dd84f",
   "metadata": {},
   "source": [
    "load the dataset"
   ]
  },
  {
   "cell_type": "code",
   "execution_count": 2,
   "id": "1826c698-be86-42bd-8281-c681c569c4ae",
   "metadata": {},
   "outputs": [],
   "source": [
    "f = h5py.File(\"QG_hackathon_data_big\",\"r\")"
   ]
  },
  {
   "cell_type": "code",
   "execution_count": 3,
   "id": "6b42a496-8337-47a9-8170-05d61a7b703b",
   "metadata": {},
   "outputs": [],
   "source": [
    "x_train = f.get('X')\n",
    "y_train = f.get('y')"
   ]
  },
  {
   "cell_type": "code",
   "execution_count": 4,
   "id": "9bbe0847-785c-4456-bf84-ff2840cb5758",
   "metadata": {},
   "outputs": [],
   "source": [
    "x_train, x_val, y_train, y_val = train_test_split(x_train[:], y_train[:], test_size=0.2, shuffle=True)"
   ]
  },
  {
   "cell_type": "markdown",
   "id": "ac533224-47f3-4f80-944f-5825a223da8b",
   "metadata": {},
   "source": [
    "like in the other notebooks we normalize the images by dividing every image by its largest pixel value. In addition we split the quarks (1) and gluons (0)."
   ]
  },
  {
   "cell_type": "code",
   "execution_count": 5,
   "id": "03919370-1923-4efe-bcda-8713e2482c0f",
   "metadata": {},
   "outputs": [],
   "source": [
    "x_train_ones = x_train[y_train==1]\n",
    "x_train_ones = x_train_ones.reshape(x_train_ones.shape + (1,))\n",
    "x_train = x_train[y_train==0]\n",
    "x_train = x_train.reshape(x_train.shape + (1,))\n",
    "\n",
    "div1 = np.max(x_train, axis=(1,2)).reshape((x_train.shape[0],1,1,1))\n",
    "div1[div1 == 0] = 1\n",
    "x_train = x_train / div1\n",
    "div2 = np.max(x_train_ones, axis=(1,2)).reshape((x_train_ones.shape[0],1,1,1))\n",
    "div2[div2 == 0] = 1\n",
    "x_train_ones = x_train_ones / div2\n",
    "\n",
    "x_val_ones = x_val[y_val==1]\n",
    "x_val_ones = x_val_ones.reshape(x_val_ones.shape + (1,))\n",
    "x_val = x_val[y_val==0]\n",
    "x_val = x_val.reshape(x_val.shape + (1,))\n",
    "\n",
    "div1 = np.max(x_val, axis=(1,2)).reshape((x_val.shape[0],1,1,1))\n",
    "div1[div1 == 0] = 1\n",
    "x_val = x_val / div1\n",
    "div2 = np.max(x_val_ones, axis=(1,2)).reshape((x_val_ones.shape[0],1,1,1))\n",
    "div2[div2 == 0] = 1\n",
    "x_val_ones = x_val_ones / div2"
   ]
  },
  {
   "cell_type": "markdown",
   "id": "e72a7e05-bafd-4ec0-bd1b-efe57a813b68",
   "metadata": {
    "tags": []
   },
   "source": [
    "## Model"
   ]
  },
  {
   "cell_type": "markdown",
   "id": "bf9cadc4-0ce9-4bf4-b9e7-0154293e6f6b",
   "metadata": {},
   "source": [
    "We build the Autoencoder model"
   ]
  },
  {
   "cell_type": "code",
   "execution_count": 6,
   "id": "a7749538-57ba-4a58-91e4-81d708726017",
   "metadata": {},
   "outputs": [],
   "source": [
    "from tensorflow.keras.models import Model\n",
    "from tensorflow.keras import layers, losses\n",
    "from keras.initializers import Constant\n",
    "from keras.layers import PReLU\n",
    "\n",
    "class Convolutional_Autoencoder(Model):\n",
    "    \"\"\"Convolutional Autoencoder model specifically for comparasion with Quantum models with a small number of parameters\"\"\"\n",
    "    def __init__(self, latent_dim):\n",
    "        \"\"\"Create the model with given latenspace. Will have around 3000 parameters\n",
    "\n",
    "        Args:\n",
    "          latent_dim (int): number of latent neurons\"\"\"\n",
    "        super(Convolutional_Autoencoder, self).__init__()\n",
    "\n",
    "        self.encoder = tf.keras.Sequential([\n",
    "          layers.Input(shape=(30, 30, 1)),\n",
    "          layers.Conv2D(10, kernel_size=4, strides=1, padding='same'),\n",
    "          PReLU(alpha_initializer=Constant(value=0.25)),\n",
    "          layers.AveragePooling2D(pool_size=2),\n",
    "          layers.Conv2D(5, kernel_size=4, strides=1, padding='same'),\n",
    "          PReLU(alpha_initializer=Constant(value=0.25)),         \n",
    "          layers.AveragePooling2D(pool_size=2),\n",
    "          layers.Conv2D(5, kernel_size=2, strides=1, padding='same'),\n",
    "          PReLU(alpha_initializer=Constant(value=0.25)),            \n",
    "          layers.Flatten(),\n",
    "          layers.Dense(25),\n",
    "          PReLU(alpha_initializer=Constant(value=0.25)),            \n",
    "          layers.Dense(latent_dim),\n",
    "          PReLU(alpha_initializer=Constant(value=0.25))])\n",
    "\n",
    "        self.decoder = tf.keras.Sequential([\n",
    "          layers.Dense(81*1),\n",
    "          PReLU(alpha_initializer=Constant(value=0.25)),\n",
    "          layers.Reshape((9, 9, 1)),\n",
    "          layers.Conv2D(5, kernel_size=2, strides=1, padding='same'),\n",
    "          PReLU(alpha_initializer=Constant(value=0.25)),            \n",
    "          layers.UpSampling2D(size=2),\n",
    "          layers.Conv2D(5, kernel_size=4, strides=1, padding='same'),\n",
    "          PReLU(alpha_initializer=Constant(value=0.25)),          \n",
    "          layers.UpSampling2D(size=2),\n",
    "          layers.Conv2D(10, kernel_size=4, strides=1, padding='valid'),\n",
    "          PReLU(alpha_initializer=Constant(value=0.25)),            \n",
    "          layers.Conv2D(1, kernel_size=4, strides=1, activation='sigmoid', padding='valid')])\n",
    "            \n",
    "\n",
    "    def call(self, x):\n",
    "        encoded = self.encoder(x)\n",
    "        decoded = self.decoder(encoded)\n",
    "        return decoded\n"
   ]
  },
  {
   "cell_type": "code",
   "execution_count": 7,
   "id": "d2934adb-386d-4556-9b49-61df0a75f52a",
   "metadata": {},
   "outputs": [
    {
     "name": "stderr",
     "output_type": "stream",
     "text": [
      "2024-06-20 17:28:11.094892: W tensorflow/compiler/xla/stream_executor/platform/default/dso_loader.cc:64] Could not load dynamic library 'libcuda.so.1'; dlerror: libcuda.so.1: cannot open shared object file: No such file or directory\n",
      "2024-06-20 17:28:11.094921: W tensorflow/compiler/xla/stream_executor/cuda/cuda_driver.cc:265] failed call to cuInit: UNKNOWN ERROR (303)\n",
      "2024-06-20 17:28:11.094951: I tensorflow/compiler/xla/stream_executor/cuda/cuda_diagnostics.cc:156] kernel driver does not appear to be running on this host (tomskopfbahnhof): /proc/driver/nvidia/version does not exist\n",
      "2024-06-20 17:28:11.095340: I tensorflow/core/platform/cpu_feature_guard.cc:193] This TensorFlow binary is optimized with oneAPI Deep Neural Network Library (oneDNN) to use the following CPU instructions in performance-critical operations:  AVX2 FMA\n",
      "To enable them in other operations, rebuild TensorFlow with the appropriate compiler flags.\n"
     ]
    }
   ],
   "source": [
    "model = Convolutional_Autoencoder(27)"
   ]
  },
  {
   "cell_type": "code",
   "execution_count": 8,
   "id": "eb507d02-d054-4a35-a060-08c75a025b15",
   "metadata": {},
   "outputs": [],
   "source": [
    "model.build(input_shape=(1,30,30,1))"
   ]
  },
  {
   "cell_type": "markdown",
   "id": "4857aacd-976b-44f8-880b-f6ed25fb422f",
   "metadata": {},
   "source": [
    "This is what the model looks like:"
   ]
  },
  {
   "cell_type": "code",
   "execution_count": 9,
   "id": "79ff7752-42f4-4a76-a77f-c4c19db3e24d",
   "metadata": {},
   "outputs": [
    {
     "name": "stdout",
     "output_type": "stream",
     "text": [
      "Model: \"convolutional__autoencoder\"\n",
      "_________________________________________________________________\n",
      " Layer (type)                Output Shape              Param #   \n",
      "=================================================================\n",
      " sequential (Sequential)     (None, 27)                18354     \n",
      "                                                                 \n",
      " sequential_1 (Sequential)   (1, 30, 30, 1)            16665     \n",
      "                                                                 \n",
      "=================================================================\n",
      "Total params: 35,019\n",
      "Trainable params: 35,019\n",
      "Non-trainable params: 0\n",
      "_________________________________________________________________\n"
     ]
    }
   ],
   "source": [
    "model.summary()"
   ]
  },
  {
   "cell_type": "code",
   "execution_count": 10,
   "id": "58de2f66-e925-4a60-827a-1d8b1a50af77",
   "metadata": {},
   "outputs": [
    {
     "name": "stdout",
     "output_type": "stream",
     "text": [
      "Model: \"sequential\"\n",
      "_________________________________________________________________\n",
      " Layer (type)                Output Shape              Param #   \n",
      "=================================================================\n",
      " conv2d (Conv2D)             (None, 30, 30, 10)        170       \n",
      "                                                                 \n",
      " p_re_lu (PReLU)             (None, 30, 30, 10)        9000      \n",
      "                                                                 \n",
      " average_pooling2d (AverageP  (None, 15, 15, 10)       0         \n",
      " ooling2D)                                                       \n",
      "                                                                 \n",
      " conv2d_1 (Conv2D)           (None, 15, 15, 5)         805       \n",
      "                                                                 \n",
      " p_re_lu_1 (PReLU)           (None, 15, 15, 5)         1125      \n",
      "                                                                 \n",
      " average_pooling2d_1 (Averag  (None, 7, 7, 5)          0         \n",
      " ePooling2D)                                                     \n",
      "                                                                 \n",
      " conv2d_2 (Conv2D)           (None, 7, 7, 5)           105       \n",
      "                                                                 \n",
      " p_re_lu_2 (PReLU)           (None, 7, 7, 5)           245       \n",
      "                                                                 \n",
      " flatten (Flatten)           (None, 245)               0         \n",
      "                                                                 \n",
      " dense (Dense)               (None, 25)                6150      \n",
      "                                                                 \n",
      " p_re_lu_3 (PReLU)           (None, 25)                25        \n",
      "                                                                 \n",
      " dense_1 (Dense)             (None, 27)                702       \n",
      "                                                                 \n",
      " p_re_lu_4 (PReLU)           (None, 27)                27        \n",
      "                                                                 \n",
      "=================================================================\n",
      "Total params: 18,354\n",
      "Trainable params: 18,354\n",
      "Non-trainable params: 0\n",
      "_________________________________________________________________\n"
     ]
    }
   ],
   "source": [
    "model.encoder.summary()"
   ]
  },
  {
   "cell_type": "code",
   "execution_count": 11,
   "id": "8b6d14b7-a95c-4f6a-a977-e6804e9ca52e",
   "metadata": {},
   "outputs": [
    {
     "name": "stdout",
     "output_type": "stream",
     "text": [
      "Model: \"sequential_1\"\n",
      "_________________________________________________________________\n",
      " Layer (type)                Output Shape              Param #   \n",
      "=================================================================\n",
      " dense_2 (Dense)             (1, 81)                   2268      \n",
      "                                                                 \n",
      " p_re_lu_5 (PReLU)           (1, 81)                   81        \n",
      "                                                                 \n",
      " reshape (Reshape)           (1, 9, 9, 1)              0         \n",
      "                                                                 \n",
      " conv2d_3 (Conv2D)           (1, 9, 9, 5)              25        \n",
      "                                                                 \n",
      " p_re_lu_6 (PReLU)           (1, 9, 9, 5)              405       \n",
      "                                                                 \n",
      " up_sampling2d (UpSampling2D  (1, 18, 18, 5)           0         \n",
      " )                                                               \n",
      "                                                                 \n",
      " conv2d_4 (Conv2D)           (1, 18, 18, 5)            405       \n",
      "                                                                 \n",
      " p_re_lu_7 (PReLU)           (1, 18, 18, 5)            1620      \n",
      "                                                                 \n",
      " up_sampling2d_1 (UpSampling  (1, 36, 36, 5)           0         \n",
      " 2D)                                                             \n",
      "                                                                 \n",
      " conv2d_5 (Conv2D)           (1, 33, 33, 10)           810       \n",
      "                                                                 \n",
      " p_re_lu_8 (PReLU)           (1, 33, 33, 10)           10890     \n",
      "                                                                 \n",
      " conv2d_6 (Conv2D)           (1, 30, 30, 1)            161       \n",
      "                                                                 \n",
      "=================================================================\n",
      "Total params: 16,665\n",
      "Trainable params: 16,665\n",
      "Non-trainable params: 0\n",
      "_________________________________________________________________\n"
     ]
    }
   ],
   "source": [
    "model.decoder.summary()"
   ]
  },
  {
   "cell_type": "markdown",
   "id": "77b14f58-3997-460e-9c2b-cbab25552546",
   "metadata": {
    "tags": []
   },
   "source": [
    "## Training"
   ]
  },
  {
   "cell_type": "markdown",
   "id": "85830aab-4ec0-45cf-923e-b41edf793be7",
   "metadata": {},
   "source": [
    "I use adamw as optimizer"
   ]
  },
  {
   "cell_type": "code",
   "execution_count": 12,
   "id": "6d9a86ce-0a3b-41a1-9121-9f3e44ab740f",
   "metadata": {},
   "outputs": [],
   "source": [
    "learning_rate = 0.0001\n",
    "weight_decay = 0.00005\n",
    "optimizer = tfa.optimizers.AdamW(\n",
    "        learning_rate=learning_rate, weight_decay=weight_decay\n",
    "    )"
   ]
  },
  {
   "cell_type": "code",
   "execution_count": 13,
   "id": "5403bb80-136e-49f3-8653-2c17c84a2617",
   "metadata": {},
   "outputs": [],
   "source": [
    "model.compile(loss='binary_crossentropy', optimizer=optimizer)"
   ]
  },
  {
   "cell_type": "markdown",
   "id": "acb39f8e-1483-4b9f-b216-caaf472a83e4",
   "metadata": {},
   "source": [
    "We use early stopping on the validation loss. Training can take some time as we have to train for a lot of epochs."
   ]
  },
  {
   "cell_type": "code",
   "execution_count": 14,
   "id": "739e2947-7f29-4fc3-a714-ec288fb1218d",
   "metadata": {},
   "outputs": [
    {
     "name": "stdout",
     "output_type": "stream",
     "text": [
      "Epoch 1/100\n",
      "356/356 [==============================] - 38s 102ms/step - loss: 0.2211 - val_loss: 0.0220\n",
      "Epoch 2/100\n",
      "356/356 [==============================] - 36s 102ms/step - loss: 0.0192 - val_loss: 0.0181\n",
      "Epoch 3/100\n",
      "356/356 [==============================] - 35s 98ms/step - loss: 0.0179 - val_loss: 0.0177\n",
      "Epoch 4/100\n",
      "356/356 [==============================] - 35s 98ms/step - loss: 0.0176 - val_loss: 0.0175\n",
      "Epoch 5/100\n",
      "356/356 [==============================] - 35s 98ms/step - loss: 0.0174 - val_loss: 0.0173\n",
      "Epoch 6/100\n",
      "356/356 [==============================] - 36s 101ms/step - loss: 0.0172 - val_loss: 0.0172\n",
      "Epoch 7/100\n",
      "356/356 [==============================] - 36s 100ms/step - loss: 0.0171 - val_loss: 0.0170\n",
      "Epoch 8/100\n",
      "356/356 [==============================] - 36s 101ms/step - loss: 0.0169 - val_loss: 0.0169\n",
      "Epoch 9/100\n",
      "356/356 [==============================] - 36s 102ms/step - loss: 0.0168 - val_loss: 0.0168\n",
      "Epoch 10/100\n",
      "356/356 [==============================] - 36s 100ms/step - loss: 0.0167 - val_loss: 0.0166\n",
      "Epoch 11/100\n",
      "356/356 [==============================] - 35s 99ms/step - loss: 0.0166 - val_loss: 0.0165\n",
      "Epoch 12/100\n",
      "356/356 [==============================] - 35s 98ms/step - loss: 0.0164 - val_loss: 0.0164\n",
      "Epoch 13/100\n",
      "356/356 [==============================] - 35s 100ms/step - loss: 0.0163 - val_loss: 0.0163\n",
      "Epoch 14/100\n",
      "356/356 [==============================] - 35s 99ms/step - loss: 0.0162 - val_loss: 0.0161\n",
      "Epoch 15/100\n",
      "356/356 [==============================] - 35s 98ms/step - loss: 0.0160 - val_loss: 0.0159\n",
      "Epoch 16/100\n",
      "356/356 [==============================] - 36s 101ms/step - loss: 0.0157 - val_loss: 0.0155\n",
      "Epoch 17/100\n",
      "356/356 [==============================] - 35s 97ms/step - loss: 0.0154 - val_loss: 0.0154\n",
      "Epoch 18/100\n",
      "356/356 [==============================] - 36s 102ms/step - loss: 0.0152 - val_loss: 0.0151\n",
      "Epoch 19/100\n",
      "356/356 [==============================] - 36s 101ms/step - loss: 0.0149 - val_loss: 0.0147\n",
      "Epoch 20/100\n",
      "356/356 [==============================] - 36s 100ms/step - loss: 0.0146 - val_loss: 0.0145\n",
      "Epoch 21/100\n",
      "356/356 [==============================] - 36s 101ms/step - loss: 0.0144 - val_loss: 0.0143\n",
      "Epoch 22/100\n",
      "356/356 [==============================] - 35s 98ms/step - loss: 0.0142 - val_loss: 0.0142\n",
      "Epoch 23/100\n",
      "356/356 [==============================] - 35s 98ms/step - loss: 0.0141 - val_loss: 0.0140\n",
      "Epoch 24/100\n",
      "356/356 [==============================] - 36s 101ms/step - loss: 0.0139 - val_loss: 0.0139\n",
      "Epoch 25/100\n",
      "356/356 [==============================] - 39s 108ms/step - loss: 0.0137 - val_loss: 0.0136\n",
      "Epoch 26/100\n",
      "356/356 [==============================] - 36s 100ms/step - loss: 0.0135 - val_loss: 0.0134\n",
      "Epoch 27/100\n",
      "356/356 [==============================] - 36s 102ms/step - loss: 0.0133 - val_loss: 0.0132\n",
      "Epoch 28/100\n",
      "356/356 [==============================] - 35s 99ms/step - loss: 0.0131 - val_loss: 0.0130\n",
      "Epoch 29/100\n",
      "356/356 [==============================] - 37s 104ms/step - loss: 0.0129 - val_loss: 0.0129\n",
      "Epoch 30/100\n",
      "356/356 [==============================] - 37s 104ms/step - loss: 0.0128 - val_loss: 0.0128\n",
      "Epoch 31/100\n",
      "356/356 [==============================] - 37s 103ms/step - loss: 0.0127 - val_loss: 0.0126\n",
      "Epoch 32/100\n",
      "356/356 [==============================] - 36s 102ms/step - loss: 0.0126 - val_loss: 0.0125\n",
      "Epoch 33/100\n",
      "356/356 [==============================] - 37s 103ms/step - loss: 0.0125 - val_loss: 0.0125\n",
      "Epoch 34/100\n",
      "356/356 [==============================] - 36s 102ms/step - loss: 0.0124 - val_loss: 0.0124\n",
      "Epoch 35/100\n",
      "356/356 [==============================] - 38s 106ms/step - loss: 0.0123 - val_loss: 0.0123\n",
      "Epoch 36/100\n",
      "356/356 [==============================] - 36s 102ms/step - loss: 0.0122 - val_loss: 0.0122\n",
      "Epoch 37/100\n",
      "356/356 [==============================] - 37s 105ms/step - loss: 0.0121 - val_loss: 0.0121\n",
      "Epoch 38/100\n",
      "356/356 [==============================] - 36s 102ms/step - loss: 0.0121 - val_loss: 0.0121\n",
      "Epoch 39/100\n",
      "356/356 [==============================] - 36s 103ms/step - loss: 0.0120 - val_loss: 0.0120\n",
      "Epoch 40/100\n",
      "356/356 [==============================] - 35s 98ms/step - loss: 0.0120 - val_loss: 0.0120\n",
      "Epoch 41/100\n",
      "356/356 [==============================] - 36s 102ms/step - loss: 0.0119 - val_loss: 0.0119\n",
      "Epoch 42/100\n",
      "356/356 [==============================] - 35s 99ms/step - loss: 0.0119 - val_loss: 0.0119\n",
      "Epoch 43/100\n",
      "356/356 [==============================] - 36s 101ms/step - loss: 0.0118 - val_loss: 0.0119\n",
      "Epoch 44/100\n",
      "356/356 [==============================] - 35s 98ms/step - loss: 0.0118 - val_loss: 0.0118\n",
      "Epoch 45/100\n",
      "356/356 [==============================] - 36s 102ms/step - loss: 0.0118 - val_loss: 0.0118\n",
      "Epoch 46/100\n",
      "356/356 [==============================] - 36s 101ms/step - loss: 0.0117 - val_loss: 0.0118\n",
      "Epoch 47/100\n",
      "356/356 [==============================] - 36s 102ms/step - loss: 0.0117 - val_loss: 0.0117\n",
      "Epoch 48/100\n",
      "356/356 [==============================] - 36s 100ms/step - loss: 0.0117 - val_loss: 0.0117\n",
      "Epoch 49/100\n",
      "356/356 [==============================] - 36s 102ms/step - loss: 0.0116 - val_loss: 0.0117\n",
      "Epoch 50/100\n",
      "356/356 [==============================] - 37s 103ms/step - loss: 0.0116 - val_loss: 0.0117\n",
      "Epoch 51/100\n",
      "356/356 [==============================] - 35s 98ms/step - loss: 0.0116 - val_loss: 0.0116\n",
      "Epoch 52/100\n",
      "356/356 [==============================] - 37s 104ms/step - loss: 0.0116 - val_loss: 0.0116\n",
      "Epoch 53/100\n",
      "356/356 [==============================] - 36s 100ms/step - loss: 0.0115 - val_loss: 0.0116\n",
      "Epoch 54/100\n",
      "356/356 [==============================] - 36s 102ms/step - loss: 0.0115 - val_loss: 0.0116\n",
      "Epoch 55/100\n",
      "356/356 [==============================] - 37s 103ms/step - loss: 0.0115 - val_loss: 0.0115\n",
      "Epoch 56/100\n",
      "356/356 [==============================] - 40s 114ms/step - loss: 0.0115 - val_loss: 0.0115\n",
      "Epoch 57/100\n",
      "356/356 [==============================] - 37s 104ms/step - loss: 0.0115 - val_loss: 0.0115\n",
      "Epoch 58/100\n",
      "356/356 [==============================] - 37s 104ms/step - loss: 0.0114 - val_loss: 0.0115\n",
      "Epoch 59/100\n",
      "356/356 [==============================] - 36s 101ms/step - loss: 0.0114 - val_loss: 0.0115\n",
      "Epoch 60/100\n",
      "356/356 [==============================] - 38s 106ms/step - loss: 0.0114 - val_loss: 0.0114\n",
      "Epoch 61/100\n",
      "356/356 [==============================] - 37s 104ms/step - loss: 0.0114 - val_loss: 0.0114\n",
      "Epoch 62/100\n",
      "356/356 [==============================] - 36s 101ms/step - loss: 0.0114 - val_loss: 0.0114\n",
      "Epoch 63/100\n",
      "356/356 [==============================] - 37s 103ms/step - loss: 0.0113 - val_loss: 0.0114\n",
      "Epoch 64/100\n",
      "  5/356 [..............................] - ETA: 32s - loss: 0.0113"
     ]
    },
    {
     "name": "stderr",
     "output_type": "stream",
     "text": [
      "Exception ignored in: <function WeakKeyDictionary.__init__.<locals>.remove at 0x7f34b3b85ee0>\n",
      "Traceback (most recent call last):\n",
      "  File \"/home/tom/.conda/envs/tfq/lib/python3.9/weakref.py\", line 370, in remove\n",
      "KeyboardInterrupt: \n",
      "\n",
      "KeyboardInterrupt\n",
      "\n"
     ]
    }
   ],
   "source": [
    "es = tf.keras.callbacks.EarlyStopping(monitor='val_loss', patience=10, min_delta=5e-6)\n",
    "hist = model.fit(x_train_ones,x_train_ones,epochs=100,validation_data=(x_val_ones,x_val_ones),callbacks=[es], batch_size=128)"
   ]
  },
  {
   "cell_type": "markdown",
   "id": "df293cb5-44c5-4997-8e63-311e2dd04bff",
   "metadata": {
    "tags": []
   },
   "source": [
    "# Evaluation"
   ]
  },
  {
   "cell_type": "markdown",
   "id": "e1bb4f49-6066-4018-adfe-8f6d80328499",
   "metadata": {},
   "source": [
    "We can check the loss and auc history"
   ]
  },
  {
   "cell_type": "code",
   "execution_count": null,
   "id": "536ea14f-9b8c-4c95-b227-f7d2cd4d37db",
   "metadata": {},
   "outputs": [],
   "source": [
    "plt.plot(hist.history['loss'], label=\"training\")\n",
    "plt.plot(hist.history['val_loss'], label=\"validation\")\n",
    "plt.yscale('log')\n",
    "plt.legend()"
   ]
  },
  {
   "cell_type": "markdown",
   "id": "59d88308-4da5-404e-adc5-cd937ccf49c5",
   "metadata": {},
   "source": [
    "and evaluate the reconstruction abilities.\n",
    "First on the data it was trained on"
   ]
  },
  {
   "cell_type": "code",
   "execution_count": 15,
   "id": "8c7bec61-cfac-40f3-9bc8-8137e6d4324d",
   "metadata": {},
   "outputs": [],
   "source": [
    "def eval_recon(x_test, x_recon, lognorm=False):\n",
    "    \"\"\"Evaluate the reconstruction capabilities of an autoencoder\n",
    "\n",
    "    Args:\n",
    "        x_true (array): True images\n",
    "        x_recon (array): reconstructed image\n",
    "        lognorm (bool): use logarithmic norm for example images\n",
    "\n",
    "    Returns:\n",
    "        evaluation plots\n",
    "    \"\"\"\n",
    "    x_test = x_test.reshape(x_test.shape[0], x_test.shape[1], x_test.shape[2],1)\n",
    "    x_recon = x_recon.reshape(x_recon.shape[0], x_recon.shape[1], x_recon.shape[2],1)\n",
    "\n",
    "    ssim = tf.reduce_mean(tf.image.ssim(x_test.astype('float64'), x_recon.astype('float64'), max_val=1.0)).numpy()\n",
    "    MAE = tf.reduce_mean(tf.abs(x_test - x_recon)).numpy()\n",
    "    normalized_MAE = MAE / tf.reduce_mean(tf.reduce_sum(x_test,axis=(1,2)).numpy().reshape((x_test.shape[0],1,1,1))).numpy()\n",
    "\n",
    "    print(f'ssim: {ssim:.3}')\n",
    "    print(f'MAE: {MAE:.3}')\n",
    "    print(f'normalized MAE: {normalized_MAE:.3}')\n",
    "\n",
    "    fig, axs = plt.subplots(2,3, figsize=(10, 5))\n",
    "\n",
    "    if lognorm:\n",
    "        norm = LogNorm()\n",
    "    else:\n",
    "        norm = None\n",
    "\n",
    "    for i in range(3):\n",
    "        rint = np.random.randint(len(x_test))\n",
    "        axs[0,i].imshow(x_test[rint], cmap='binary', norm=norm)\n",
    "        axs[0,i].title.set_text('true')\n",
    "\n",
    "        fig.colorbar(cm.ScalarMappable(norm=norm, cmap='binary'), ax=axs[0,i])\n",
    "\n",
    "        axs[1,i].imshow(x_recon[rint], cmap='binary', norm=norm)\n",
    "        axs[1,i].title.set_text('reconstructed')\n",
    "\n",
    "        fig.colorbar(cm.ScalarMappable(norm=norm, cmap='binary'), ax=axs[1,i])\n",
    "\n",
    "    fig.tight_layout()\n"
   ]
  },
  {
   "cell_type": "code",
   "execution_count": 16,
   "id": "6c06e649-a13d-4f00-8fb9-2367c2ead3e4",
   "metadata": {},
   "outputs": [
    {
     "name": "stdout",
     "output_type": "stream",
     "text": [
      "359/359 [==============================] - 3s 9ms/step\n",
      "ssim: 0.873\n",
      "MAE: 0.00379\n",
      "normalized MAE: 0.00126\n"
     ]
    },
    {
     "data": {
      "image/png": "[encoded data removed]",
      "text/plain": [
       "<Figure size 720x360 with 12 Axes>"
      ]
     },
     "metadata": {
      "needs_background": "light"
     },
     "output_type": "display_data"
    }
   ],
   "source": [
    "recon = model.predict(x_val_ones)\n",
    "\n",
    "eval_recon(x_val_ones, recon, lognorm=True)"
   ]
  },
  {
   "cell_type": "markdown",
   "id": "592144e2-d339-476e-9460-c011d5b51337",
   "metadata": {},
   "source": [
    "And now on the anomalous signal samples."
   ]
  },
  {
   "cell_type": "code",
   "execution_count": 17,
   "id": "3a70377d-bb02-4a8c-94cc-5ac89fb42360",
   "metadata": {},
   "outputs": [
    {
     "name": "stdout",
     "output_type": "stream",
     "text": [
      "424/424 [==============================] - 4s 8ms/step\n",
      "ssim: 0.833\n",
      "MAE: 0.00477\n",
      "normalized MAE: 0.00146\n"
     ]
    },
    {
     "data": {
      "image/png": "[encoded data removed]",
      "text/plain": [
       "<Figure size 720x360 with 12 Axes>"
      ]
     },
     "metadata": {
      "needs_background": "light"
     },
     "output_type": "display_data"
    }
   ],
   "source": [
    "recon = model.predict(x_val)\n",
    "\n",
    "eval_recon(x_val, recon, lognorm=True)"
   ]
  },
  {
   "cell_type": "markdown",
   "id": "36b0c035-175d-425a-9c01-bf86578edad8",
   "metadata": {},
   "source": [
    "This is again the anomaly tagging performance"
   ]
  },
  {
   "cell_type": "code",
   "execution_count": 18,
   "id": "746bd536-7df4-479c-959c-8d1d1e94b482",
   "metadata": {},
   "outputs": [],
   "source": [
    "def eval_tagging(x_true_background, x_recon_background, x_true_signal, x_recon_signal):\n",
    "    \"\"\"Evaluate the anomaly tagging capabilities of an autoencoder\n",
    "\n",
    "    Args:\n",
    "        x_true_background (array): True images of background events\n",
    "        x_recon_background (array): reconstructed images of background events\n",
    "        x_true_signal (array): True images of signal events\n",
    "        x_recon_signal (array): reconstructed images of signal events\n",
    "\n",
    "    Returns:\n",
    "        Plots for tagging evaluation\n",
    "    \"\"\"\n",
    "    x_true_background = x_true_background.reshape(x_true_background.shape[0], x_true_background.shape[1], x_true_background.shape[2],1)\n",
    "    x_recon_background = x_recon_background.reshape(x_recon_background.shape[0], x_recon_background.shape[1], x_recon_background.shape[2],1)\n",
    "    x_true_signal = x_true_signal.reshape(x_true_signal.shape[0], x_true_signal.shape[1], x_true_signal.shape[2],1)\n",
    "    x_recon_signal = x_recon_signal.reshape(x_recon_signal.shape[0], x_recon_signal.shape[1], x_recon_signal.shape[2],1)\n",
    "\n",
    "    bce_background = tf.keras.losses.binary_crossentropy(x_true_background, x_recon_background, axis=(1,2,3)).numpy()\n",
    "    bce_signal = tf.keras.losses.binary_crossentropy(x_true_signal, x_recon_signal, axis=(1,2,3)).numpy()\n",
    "\n",
    "    fig, axs = plt.subplots(1,3, figsize=(11, 4))\n",
    "\n",
    "    print(f'Median background: {np.median(bce_background):.3}')\n",
    "    print(f'Median signal: {np.median(bce_signal):.3}')\n",
    "    bins = np.histogram(np.hstack((bce_background, bce_signal)), bins=25)[1]\n",
    "    axs[0].hist(bce_background, histtype='step', label=\"background\",bins=bins)\n",
    "    axs[0].hist(bce_signal, histtype='step', label=\"signal\",bins=bins)\n",
    "    axs[0].set_xlabel(\"loss\")\n",
    "    axs[0].legend()\n",
    "\n",
    "    thresholds = np.linspace(0,max(np.max(bce_background),np.max(bce_signal)),1000)\n",
    "\n",
    "    accs = []\n",
    "    for i in thresholds:\n",
    "        num_background_right = np.sum(bce_background < i)\n",
    "        num_signal_right = np.sum(bce_signal > i)\n",
    "        acc = (num_background_right + num_signal_right)/(len(x_recon_background) + len(x_recon_signal))\n",
    "        accs.append(acc)\n",
    "\n",
    "    print(f'Maximum accuracy: {np.max(accs):.3}')\n",
    "    axs[1].plot(thresholds, accs)\n",
    "    axs[1].set_xlabel(\"anomaly threshold\")\n",
    "    axs[1].set_ylabel(\"tagging accuracy\")\n",
    "\n",
    "    y_true = np.append(np.zeros(len(bce_background)), np.ones(len(bce_signal)))\n",
    "    y_pred = np.append(bce_background, bce_signal)\n",
    "    auc = roc_auc_score(y_true, y_pred)\n",
    "    print(f'AUC: {auc:.4}')\n",
    "    fpr, tpr, thresholds = roc_curve(y_true, y_pred)\n",
    "    tnr = 1 - fpr\n",
    "    x = np.linspace(0,1,50)\n",
    "    y_rnd = 1 - x\n",
    "    axs[2].plot(tnr,tpr, label=\"anomaly tagging\")\n",
    "    axs[2].plot(x,y_rnd, label=\"random tagging\", color='grey')\n",
    "    axs[2].set_xlabel(\"fpr\")\n",
    "    axs[2].set_ylabel(\"tpr\")\n",
    "    axs[2].legend()\n",
    "\n",
    "    fig.tight_layout()"
   ]
  },
  {
   "cell_type": "code",
   "execution_count": 19,
   "id": "59725db5-30fb-476a-b53d-cd81cde1ca27",
   "metadata": {},
   "outputs": [
    {
     "name": "stdout",
     "output_type": "stream",
     "text": [
      "424/424 [==============================] - 4s 8ms/step\n",
      "359/359 [==============================] - 3s 9ms/step\n",
      "Median background: 0.00912\n",
      "Median signal: 0.012\n",
      "Maximum accuracy: 0.561\n",
      "AUC: 0.5551\n"
     ]
    },
    {
     "data": {
      "image/png": "[encoded data removed]",
      "text/plain": [
       "<Figure size 792x288 with 3 Axes>"
      ]
     },
     "metadata": {
      "needs_background": "light"
     },
     "output_type": "display_data"
    }
   ],
   "source": [
    "recon = model.predict(x_val)\n",
    "recon_1 = model.predict(x_val_ones)\n",
    "\n",
    "ut.eval_tagging(x_val_ones, recon_1, x_val, recon)"
   ]
  },
  {
   "cell_type": "code",
   "execution_count": null,
   "id": "32553d2b-70b1-4409-b984-c7522e8b72e6",
   "metadata": {},
   "outputs": [],
   "source": []
  },
  {
   "cell_type": "code",
   "execution_count": null,
   "id": "bc2828a4-aaac-440c-83a9-4adf02ba60f9",
   "metadata": {},
   "outputs": [],
   "source": []
  },
  {
   "cell_type": "code",
   "execution_count": null,
   "id": "cf5ee012-013c-43b2-afa1-57e145928f0e",
   "metadata": {},
   "outputs": [],
   "source": []
  }
 ],
 "metadata": {
  "kernelspec": {
   "display_name": "tfq",
   "language": "python",
   "name": "tfq"
  },
  "language_info": {
   "codemirror_mode": {
    "name": "ipython",
    "version": 3
   },
   "file_extension": ".py",
   "mimetype": "text/x-python",
   "name": "python",
   "nbconvert_exporter": "python",
   "pygments_lexer": "ipython3",
   "version": "3.9.12"
  }
 },
 "nbformat": 4,
 "nbformat_minor": 5
}
